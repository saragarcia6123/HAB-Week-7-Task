{
 "cells": [
  {
   "cell_type": "code",
   "execution_count": 62,
   "id": "343be2c9-ccc3-4ab4-bdbb-da944c59d25a",
   "metadata": {},
   "outputs": [],
   "source": [
    "import pandas as pd\n",
    "import numpy as np\n",
    "import mysql.connector"
   ]
  },
  {
   "cell_type": "code",
   "execution_count": 63,
   "id": "7231c670-f0a9-42fa-8bf3-3a60015ec26d",
   "metadata": {},
   "outputs": [],
   "source": [
    "df_tabla_aerolineas = pd.read_csv(\"tabla_aerolineas.csv\")\n",
    "df_tabla_aeropuertos = pd.read_csv(\"tabla_aeropuertos.csv\")\n",
    "df_tabla_distancias = pd.read_csv(\"tabla_distancias.csv\")\n",
    "df_tabla_estados = pd.read_csv(\"tabla_estados.csv\")\n",
    "df_tabla_vuelos = pd.read_csv(\"tabla_vuelos.csv\")"
   ]
  },
  {
   "cell_type": "code",
   "execution_count": 64,
   "id": "29792fb8-95a1-4d12-8cb5-cc760f6cccc6",
   "metadata": {},
   "outputs": [],
   "source": [
    "df_tabla_aerolineas['founded'] = pd.to_numeric(df_tabla_aerolineas['founded'], errors='coerce').astype('Int64')\n",
    "df_tabla_aerolineas['started_operations'] = pd.to_numeric(df_tabla_aerolineas['started_operations'], errors='coerce').astype('Int64')"
   ]
  },
  {
   "cell_type": "code",
   "execution_count": 65,
   "id": "6bc8d2e4-89cd-4ff6-bc17-18d04abe82a4",
   "metadata": {},
   "outputs": [],
   "source": [
    "df_tabla_aerolineas = df_tabla_aerolineas.replace({np.nan: None, pd.NA: None})\n",
    "df_tabla_aeropuertos = df_tabla_aeropuertos.replace({np.nan: None, pd.NA: None})\n",
    "df_tabla_distancias = df_tabla_distancias.replace({np.nan: None, pd.NA: None})\n",
    "df_tabla_estados = df_tabla_estados.replace({np.nan: None, pd.NA: None})\n",
    "df_tabla_vuelos = df_tabla_vuelos.replace({np.nan: None, pd.NA: None})"
   ]
  },
  {
   "cell_type": "code",
   "execution_count": 66,
   "id": "09a40f2a-dba2-4a1a-973e-45c82e2d88f4",
   "metadata": {},
   "outputs": [],
   "source": [
    "df_tabla_estados = df_tabla_estados.drop_duplicates(subset='estado')"
   ]
  },
  {
   "cell_type": "code",
   "execution_count": 67,
   "id": "49c84364-4e27-4828-8ba9-758aa7832d93",
   "metadata": {},
   "outputs": [],
   "source": [
    "time_format_hh_mm_ss = '%H:%M:%S'\n",
    "time_format_hh_mm = '%H:%M'\n",
    "\n",
    "df_tabla_vuelos['hora_salida_programada'] = pd.to_datetime(\n",
    "    df_tabla_vuelos['hora_salida_programada'], format=time_format_hh_mm_ss, errors='coerce'\n",
    ").dt.time\n",
    "\n",
    "df_tabla_vuelos['hora_salida_real'] = pd.to_datetime(\n",
    "    df_tabla_vuelos['hora_salida_real'], format=time_format_hh_mm_ss, errors='coerce'\n",
    ").dt.time\n",
    "\n",
    "df_tabla_vuelos['hora_llegada_real'] = pd.to_datetime(\n",
    "    df_tabla_vuelos['hora_llegada_real'], format=time_format_hh_mm_ss, errors='coerce'\n",
    ").dt.time\n",
    "\n",
    "df_tabla_vuelos['hora_despegue'] = pd.to_datetime(\n",
    "    df_tabla_vuelos['hora_despegue'], format=time_format_hh_mm, errors='coerce'\n",
    ").dt.time"
   ]
  },
  {
   "cell_type": "code",
   "execution_count": 68,
   "id": "dc5dd6a9-2bc1-4f66-8da5-26988780ac58",
   "metadata": {},
   "outputs": [
    {
     "data": {
      "text/plain": [
       "ICAO                   3\n",
       "aerolinea             18\n",
       "IATA                   2\n",
       "country               13\n",
       "founded                4\n",
       "started_operations     4\n",
       "Group                 25\n",
       "Base                  51\n",
       "fleet_size             3\n",
       "average_fleet_Age      4\n",
       "official_site         20\n",
       "dtype: int64"
      ]
     },
     "execution_count": 68,
     "metadata": {},
     "output_type": "execute_result"
    }
   ],
   "source": [
    "df_tabla_aerolineas.astype(str).map(len).max()"
   ]
  },
  {
   "cell_type": "code",
   "execution_count": 69,
   "id": "03bc1657-436a-428c-a881-37ffda4968c7",
   "metadata": {},
   "outputs": [
    {
     "data": {
      "text/plain": [
       "['founded', 'started_operations', 'Group', 'Base']"
      ]
     },
     "execution_count": 69,
     "metadata": {},
     "output_type": "execute_result"
    }
   ],
   "source": [
    "df_tabla_aerolineas.columns[df_tabla_aerolineas.isnull().any()].tolist()"
   ]
  },
  {
   "cell_type": "code",
   "execution_count": 70,
   "id": "7ac0e28f-ca74-4b33-b468-c379c8b8a3e5",
   "metadata": {},
   "outputs": [],
   "source": [
    "create_aerolineas_table_query = \"\"\"\n",
    "CREATE TABLE IF NOT EXISTS aerolineas (\n",
    "    ICAO VARCHAR(3) NOT NULL,\n",
    "    aerolinea VARCHAR(20),\n",
    "    IATA VARCHAR(2),\n",
    "    country VARCHAR(30),\n",
    "    founded YEAR NULL,\n",
    "    started_operations YEAR NULL,\n",
    "    `group` VARCHAR(40) NULL,\n",
    "    base TINYTEXT NULL,\n",
    "    fleet_size SMALLINT UNSIGNED,\n",
    "    average_fleet_age FLOAT UNSIGNED,\n",
    "    official_site VARCHAR(40),\n",
    "    PRIMARY KEY (ICAO)\n",
    ");\n",
    "\"\"\""
   ]
  },
  {
   "cell_type": "code",
   "execution_count": 71,
   "id": "687bfca1-d550-47b5-8952-1b4b52280448",
   "metadata": {},
   "outputs": [
    {
     "data": {
      "text/plain": [
       "codigo_aeropuerto     3\n",
       "nombre_aeropuerto    52\n",
       "ciudad               26\n",
       "estado                2\n",
       "latitude             18\n",
       "longitude            19\n",
       "direccion            87\n",
       "dtype: int64"
      ]
     },
     "execution_count": 71,
     "metadata": {},
     "output_type": "execute_result"
    }
   ],
   "source": [
    "df_tabla_aeropuertos.astype(str).map(len).max()"
   ]
  },
  {
   "cell_type": "code",
   "execution_count": 72,
   "id": "66683474-f3cd-4877-a011-0f28ae163992",
   "metadata": {},
   "outputs": [
    {
     "data": {
      "text/plain": [
       "['direccion']"
      ]
     },
     "execution_count": 72,
     "metadata": {},
     "output_type": "execute_result"
    }
   ],
   "source": [
    "df_tabla_aeropuertos.columns[df_tabla_aeropuertos.isnull().any()].tolist()"
   ]
  },
  {
   "cell_type": "code",
   "execution_count": 73,
   "id": "803736ee-6db5-4b54-be9d-5bacb479a31f",
   "metadata": {},
   "outputs": [],
   "source": [
    "create_aeropuertos_table_query = \"\"\"\n",
    "CREATE TABLE IF NOT EXISTS aeropuertos (\n",
    "    codigo_aeropuerto VARCHAR(3) NOT NULL,\n",
    "    nombre_aeropuerto VARCHAR(100),\n",
    "    ciudad VARCHAR(40),\n",
    "    estado VARCHAR(2),\n",
    "    latidude FLOAT,\n",
    "    longitude FLOAT,\n",
    "    direccion TINYTEXT NULL,\n",
    "    PRIMARY KEY (codigo_aeropuerto),\n",
    "    FOREIGN KEY (estado) REFERENCES estados (estado)\n",
    ");\n",
    "\"\"\""
   ]
  },
  {
   "cell_type": "code",
   "execution_count": 74,
   "id": "9ca3b1c7-36f5-443b-bd30-09e9b87c9268",
   "metadata": {},
   "outputs": [
    {
     "data": {
      "text/plain": [
       "distancia_millas      6\n",
       "aeropuerto_origen     4\n",
       "aeropuerto_destino    4\n",
       "dtype: int64"
      ]
     },
     "execution_count": 74,
     "metadata": {},
     "output_type": "execute_result"
    }
   ],
   "source": [
    "df_tabla_distancias.astype(str).map(len).max()"
   ]
  },
  {
   "cell_type": "code",
   "execution_count": 75,
   "id": "182dde14-3883-471a-a171-45992f5f09b4",
   "metadata": {},
   "outputs": [
    {
     "data": {
      "text/plain": [
       "['aeropuerto_origen', 'aeropuerto_destino']"
      ]
     },
     "execution_count": 75,
     "metadata": {},
     "output_type": "execute_result"
    }
   ],
   "source": [
    "df_tabla_distancias.columns[df_tabla_distancias.isnull().any()].tolist()"
   ]
  },
  {
   "cell_type": "code",
   "execution_count": 76,
   "id": "02668067-61b8-4a69-a042-d3791ca0d778",
   "metadata": {},
   "outputs": [],
   "source": [
    "create_distancias_table_query = \"\"\"\n",
    "CREATE TABLE IF NOT EXISTS distancias (\n",
    "    distancia_id INT AUTO_INCREMENT NOT NULL,\n",
    "    distancia_millas FLOAT,\n",
    "    aeropuerto_origen VARCHAR(3) NULL,\n",
    "    aeropuerto_destino VARCHAR(3) NULL,\n",
    "    PRIMARY KEY (distancia_id),\n",
    "    FOREIGN KEY (aeropuerto_origen) REFERENCES aeropuertos (codigo_aeropuerto),\n",
    "    FOREIGN KEY (aeropuerto_destino) REFERENCES aeropuertos (codigo_aeropuerto)\n",
    ")\n",
    "\"\"\""
   ]
  },
  {
   "cell_type": "code",
   "execution_count": 77,
   "id": "455dd395-ec03-44b6-a8a7-301bbe389422",
   "metadata": {},
   "outputs": [
    {
     "data": {
      "text/plain": [
       "estado            2\n",
       "nombre_estado    33\n",
       "dtype: int64"
      ]
     },
     "execution_count": 77,
     "metadata": {},
     "output_type": "execute_result"
    }
   ],
   "source": [
    "df_tabla_estados.astype(str).map(len).max()"
   ]
  },
  {
   "cell_type": "code",
   "execution_count": 78,
   "id": "18e43b22-963e-4e32-a60b-3ddb648eecbb",
   "metadata": {},
   "outputs": [
    {
     "data": {
      "text/plain": [
       "[]"
      ]
     },
     "execution_count": 78,
     "metadata": {},
     "output_type": "execute_result"
    }
   ],
   "source": [
    "df_tabla_estados.columns[df_tabla_estados.isnull().any()].tolist()"
   ]
  },
  {
   "cell_type": "code",
   "execution_count": 79,
   "id": "ba650ec5-e3c0-48b3-8273-47ea55d1e84a",
   "metadata": {},
   "outputs": [],
   "source": [
    "create_estados_table_query = \"\"\"\n",
    "CREATE TABLE IF NOT EXISTS estados (\n",
    "    estado VARCHAR(2) NOT NULL,\n",
    "    nombre_estado VARCHAR(50),\n",
    "    PRIMARY KEY (estado)\n",
    ")\n",
    "\"\"\""
   ]
  },
  {
   "cell_type": "code",
   "execution_count": 80,
   "id": "21532bed-55e1-4596-9fd7-fee2bafc7f10",
   "metadata": {},
   "outputs": [
    {
     "data": {
      "text/plain": [
       "['hora_despegue']"
      ]
     },
     "execution_count": 80,
     "metadata": {},
     "output_type": "execute_result"
    }
   ],
   "source": [
    "df_tabla_vuelos.columns[df_tabla_vuelos.isnull().any()].tolist()"
   ]
  },
  {
   "cell_type": "code",
   "execution_count": 81,
   "id": "d024c785-dfb2-475d-907a-8ffb3945e2e3",
   "metadata": {},
   "outputs": [
    {
     "data": {
      "text/html": [
       "<div>\n",
       "<style scoped>\n",
       "    .dataframe tbody tr th:only-of-type {\n",
       "        vertical-align: middle;\n",
       "    }\n",
       "\n",
       "    .dataframe tbody tr th {\n",
       "        vertical-align: top;\n",
       "    }\n",
       "\n",
       "    .dataframe thead th {\n",
       "        text-align: right;\n",
       "    }\n",
       "</style>\n",
       "<table border=\"1\" class=\"dataframe\">\n",
       "  <thead>\n",
       "    <tr style=\"text-align: right;\">\n",
       "      <th></th>\n",
       "      <th>numero_vuelo</th>\n",
       "      <th>duracion_programada_vuelo</th>\n",
       "      <th>duracion_real</th>\n",
       "      <th>retraso_salida</th>\n",
       "      <th>tiempo_pista_salida</th>\n",
       "      <th>tiempo_retraso_aerolinea</th>\n",
       "      <th>tiempo_retraso_clima</th>\n",
       "      <th>tiempo_retraso_sistema_aviacion</th>\n",
       "      <th>tiempo_retraso_seguridad</th>\n",
       "      <th>retraso_llegada</th>\n",
       "      <th>festivos</th>\n",
       "    </tr>\n",
       "  </thead>\n",
       "  <tbody>\n",
       "    <tr>\n",
       "      <th>min</th>\n",
       "      <td>1.0</td>\n",
       "      <td>-56.0</td>\n",
       "      <td>0.0</td>\n",
       "      <td>-60.0</td>\n",
       "      <td>0.0</td>\n",
       "      <td>0.0</td>\n",
       "      <td>0.0</td>\n",
       "      <td>0.0</td>\n",
       "      <td>0.0</td>\n",
       "      <td>0.0</td>\n",
       "      <td>0.0</td>\n",
       "    </tr>\n",
       "    <tr>\n",
       "      <th>max</th>\n",
       "      <td>9679.0</td>\n",
       "      <td>685.0</td>\n",
       "      <td>736.0</td>\n",
       "      <td>3001.0</td>\n",
       "      <td>218.0</td>\n",
       "      <td>2976.0</td>\n",
       "      <td>1392.0</td>\n",
       "      <td>1147.0</td>\n",
       "      <td>983.0</td>\n",
       "      <td>1615.0</td>\n",
       "      <td>1.0</td>\n",
       "    </tr>\n",
       "  </tbody>\n",
       "</table>\n",
       "</div>"
      ],
      "text/plain": [
       "     numero_vuelo  duracion_programada_vuelo  duracion_real  retraso_salida  \\\n",
       "min           1.0                      -56.0            0.0           -60.0   \n",
       "max        9679.0                      685.0          736.0          3001.0   \n",
       "\n",
       "     tiempo_pista_salida  tiempo_retraso_aerolinea  tiempo_retraso_clima  \\\n",
       "min                  0.0                       0.0                   0.0   \n",
       "max                218.0                    2976.0                1392.0   \n",
       "\n",
       "     tiempo_retraso_sistema_aviacion  tiempo_retraso_seguridad  \\\n",
       "min                              0.0                       0.0   \n",
       "max                           1147.0                     983.0   \n",
       "\n",
       "     retraso_llegada  festivos  \n",
       "min              0.0       0.0  \n",
       "max           1615.0       1.0  "
      ]
     },
     "execution_count": 81,
     "metadata": {},
     "output_type": "execute_result"
    }
   ],
   "source": [
    "df_tabla_vuelos.describe().loc[['min', 'max']]"
   ]
  },
  {
   "cell_type": "code",
   "execution_count": 82,
   "id": "0b923271-ad26-4ddc-9596-c428af198a67",
   "metadata": {},
   "outputs": [
    {
     "data": {
      "text/plain": [
       "array([0, 1])"
      ]
     },
     "execution_count": 82,
     "metadata": {},
     "output_type": "execute_result"
    }
   ],
   "source": [
    "df_tabla_vuelos['festivos'].unique()"
   ]
  },
  {
   "cell_type": "code",
   "execution_count": 83,
   "id": "2a0d0a01-d1b1-4fed-8c59-41d5000f0cc2",
   "metadata": {},
   "outputs": [],
   "source": [
    "create_vuelos_table_query = \"\"\"\n",
    "CREATE TABLE IF NOT EXISTS vuelos (\n",
    "    vuelo_id INT AUTO_INCREMENT NOT NULL,\n",
    "    aerolinea VARCHAR(3),\n",
    "    fecha DATETIME,\n",
    "    numero_vuelo SMALLINT UNSIGNED,\n",
    "    numero_cola VARCHAR(6),\n",
    "    hora_salida_programada TIME,\n",
    "    hora_salida_real TIME,\n",
    "    duracion_programada_vuelo SMALLINT,\n",
    "    duracion_real SMALLINT UNSIGNED,\n",
    "    retraso_salida SMALLINT,\n",
    "    hora_despegue TIME NULL,\n",
    "    tiempo_pista_salida SMALLINT UNSIGNED,\n",
    "    tiempo_retraso_aerolinea SMALLINT UNSIGNED,\n",
    "    tiempo_retraso_clima SMALLINT UNSIGNED,\n",
    "    tiempo_retraso_sistema_aviacion SMALLINT UNSIGNED,\n",
    "    tiempo_retraso_seguridad SMALLINT UNSIGNED,\n",
    "    retraso_llegada SMALLINT UNSIGNED,\n",
    "    aeropuerto_origen VARCHAR(3),\n",
    "    hora_llegada_real TIME,\n",
    "    festivos TINYINT(1) NOT NULL DEFAULT 0,\n",
    "    aeropuerto_destino VARCHAR(3),\n",
    "    PRIMARY KEY (vuelo_id),\n",
    "    FOREIGN KEY (aerolinea) REFERENCES aerolineas (ICAO),\n",
    "    FOREIGN KEY (aeropuerto_origen) REFERENCES aeropuertos (codigo_aeropuerto),\n",
    "    FOREIGN KEY (aeropuerto_destino) REFERENCES aeropuertos (codigo_aeropuerto)\n",
    ");\n",
    "\"\"\""
   ]
  },
  {
   "cell_type": "code",
   "execution_count": 84,
   "id": "09c2416d-8b83-496a-bc53-fbc0e218d464",
   "metadata": {},
   "outputs": [],
   "source": [
    "create_tables_queries = [\n",
    "    create_aerolineas_table_query,\n",
    "    create_estados_table_query,\n",
    "    create_aeropuertos_table_query,\n",
    "    create_distancias_table_query,\n",
    "    create_vuelos_table_query\n",
    "]"
   ]
  },
  {
   "cell_type": "code",
   "execution_count": 110,
   "id": "bfd0ccdb-1cb2-4c16-b7d5-cc24eecbc32b",
   "metadata": {},
   "outputs": [],
   "source": [
    "database = \"airlines_database\"\n",
    "db = mysql.connector.connect(host     = \"localhost\",\n",
    "                             user     = \"root\",\n",
    "                             password = \"password\",\n",
    "                             database = None)\n",
    "\n",
    "cursor = db.cursor()\n",
    "cursor.execute(f\"CREATE DATABASE IF NOT EXISTS {database};\")\n",
    "cursor.execute(\"USE airlines\")"
   ]
  },
  {
   "cell_type": "code",
   "execution_count": 86,
   "id": "a0d74a9f-f1b4-4b62-9f06-62e71cb39406",
   "metadata": {},
   "outputs": [],
   "source": [
    "for query in create_tables_queries:\n",
    "    cursor.execute(query)\n",
    "db.commit()"
   ]
  },
  {
   "cell_type": "code",
   "execution_count": 87,
   "id": "d20aa363-736c-40f9-80fa-080e845e6027",
   "metadata": {},
   "outputs": [],
   "source": [
    "insert_aerolineas_query = \"\"\"\n",
    "INSERT INTO aerolineas (ICAO, aerolinea, IATA, country, founded, started_operations, `group`, base, fleet_size, average_fleet_age, official_site)\n",
    "VALUES (%s, %s, %s, %s, %s, %s, %s, %s, %s, %s, %s);\n",
    "\"\"\""
   ]
  },
  {
   "cell_type": "code",
   "execution_count": null,
   "id": "b0cdb98c-b60e-4224-b2f9-781e86ae1810",
   "metadata": {},
   "outputs": [],
   "source": [
    "data_to_insert_aerolineas = [tuple(x) for x in df_tabla_aerolineas.values]\n",
    "cursor.executemany(insert_aerolineas_query, data_to_insert_aerolineas)\n",
    "db.commit()"
   ]
  },
  {
   "cell_type": "code",
   "execution_count": 91,
   "id": "30de5c57-7718-421a-a842-7fa5a665d265",
   "metadata": {},
   "outputs": [],
   "source": [
    "insert_estados_query = \"\"\"\n",
    "INSERT INTO estados (estado, nombre_estado)\n",
    "VALUES (%s, %s);\n",
    "\"\"\""
   ]
  },
  {
   "cell_type": "code",
   "execution_count": 92,
   "id": "894c9823-cc06-4b1a-9798-e1ca709ccef2",
   "metadata": {},
   "outputs": [],
   "source": [
    "data_to_insert_estados = [tuple(x) for x in df_tabla_estados.values]\n",
    "cursor.executemany(insert_estados_query, data_to_insert_estados)\n",
    "db.commit()"
   ]
  },
  {
   "cell_type": "code",
   "execution_count": 93,
   "id": "0bac9a7f-9792-4436-b094-2eb68806f48d",
   "metadata": {},
   "outputs": [],
   "source": [
    "insert_aeropuertos_query = \"\"\"\n",
    "INSERT INTO aeropuertos (codigo_aeropuerto, nombre_aeropuerto, ciudad, estado, latidude, longitude, direccion)\n",
    "VALUES (%s, %s, %s, %s, %s, %s, %s);\n",
    "\"\"\""
   ]
  },
  {
   "cell_type": "code",
   "execution_count": 94,
   "id": "ccabbd80-97ce-4794-a0e9-08392a8804cd",
   "metadata": {},
   "outputs": [],
   "source": [
    "data_to_insert_aeropuertos = [tuple(x) for x in df_tabla_aeropuertos.values]\n",
    "cursor.executemany(insert_aeropuertos_query, data_to_insert_aeropuertos)\n",
    "db.commit()"
   ]
  },
  {
   "cell_type": "code",
   "execution_count": 95,
   "id": "782d05b1-b2be-4693-82ea-beeeee52440f",
   "metadata": {},
   "outputs": [],
   "source": [
    "insert_distancias_query = \"\"\"\n",
    "INSERT INTO distancias (distancia_millas, aeropuerto_origen, aeropuerto_destino)\n",
    "VALUES (%s, %s, %s);\n",
    "\"\"\""
   ]
  },
  {
   "cell_type": "code",
   "execution_count": 96,
   "id": "54a60aa9-3eb8-4c03-8545-99ca1f94fda6",
   "metadata": {},
   "outputs": [],
   "source": [
    "data_to_insert_distancias = [tuple(x) for x in df_tabla_distancias.values]\n",
    "cursor.executemany(insert_distancias_query, data_to_insert_distancias)\n",
    "db.commit()"
   ]
  },
  {
   "cell_type": "code",
   "execution_count": 106,
   "id": "8005aa88-936d-4031-91f1-391f6ee9d76e",
   "metadata": {},
   "outputs": [],
   "source": [
    "insert_vuelos_query = \"\"\"\n",
    "INSERT INTO vuelos (aerolinea, fecha, numero_vuelo, numero_cola, hora_salida_programada, hora_salida_real, duracion_programada_vuelo, duracion_real, retraso_salida, hora_despegue, tiempo_pista_salida, tiempo_retraso_aerolinea, tiempo_retraso_clima, tiempo_retraso_sistema_aviacion, tiempo_retraso_seguridad, retraso_llegada, aeropuerto_origen, hora_llegada_real, festivos, aeropuerto_destino)\n",
    "VALUES (%s, %s, %s, %s, %s, %s, %s, %s, %s, %s, %s, %s, %s, %s, %s, %s, %s, %s, %s, %s);\n",
    "\"\"\""
   ]
  },
  {
   "cell_type": "code",
   "execution_count": 111,
   "id": "6d469a83-0cb7-439c-93fb-26e818d99494",
   "metadata": {},
   "outputs": [],
   "source": [
    "batch_size = 1000\n",
    "data_to_insert_vuelos = [tuple(x) for x in df_tabla_vuelos.values]\n",
    "\n",
    "for i in range(0, len(data_to_insert_vuelos), batch_size):\n",
    "    batch = data_to_insert_vuelos[i:i + batch_size]\n",
    "    cursor.executemany(insert_vuelos_query, batch)\n",
    "    db.commit()"
   ]
  },
  {
   "cell_type": "code",
   "execution_count": 112,
   "id": "f92d63fc-a4a2-407b-94be-c39a88178fe6",
   "metadata": {},
   "outputs": [
    {
     "name": "stdout",
     "output_type": "stream",
     "text": [
      "Fetching data from table: aerolineas\n",
      "Table: aerolineas\n",
      "('AAL', 'American Airlines', 'AA', 'United States', 1930, None, 'American Airlines Group', 'Dallas / Fort Worth International (DFW / KDFW)', 967, 13.3, 'aa.com')\n",
      "('AAY', 'Allegiant Air', 'G4', 'United States', 1997, 1998, None, 'Las Vegas Harry Reid International (LAS / KLAS)', 126, 15.6, 'allegiantair.com')\n",
      "('ASA', 'Alaska Airlines', 'AS', 'United States', 1932, 1944, 'Alaska Air Group', 'Seattle Tacoma International (SEA / KSEA)', 317, 8.8, 'alaskaair.com')\n",
      "('ASH', 'Mesa Airlines', 'YV', 'United States', 1980, 1980, 'Mesa Air Group', 'Phoenix Sky Harbor (PHX / KPHX)', 125, 12.1, 'mesa-air.com')\n",
      "('DAL', 'Delta Air Lines', 'DL', 'United States', 1928, 1929, None, 'Atlanta Hartsfield - Jackson (ATL / KATL)', 984, 15.3, 'delta.com')\n",
      "('EDV', 'Endeavor Air', '9E', 'United States', None, 2013, 'Delta Air Lines', 'Minneapolis St. Paul International (MSP / KMSP)', 142, 14.4, 'endeavorair.com')\n",
      "('ENY', 'Envoy Air', 'MQ', 'United States', None, 2014, 'American Airlines Group', 'Dallas / Fort Worth International (DFW / KDFW)', 151, 9.4, 'envoyair.com')\n",
      "('FFT', 'Frontier Airlines', 'F9', 'United States', 1994, 1994, None, 'Denver International (DEN / KDEN)', 142, 4.5, 'flyfrontier.com')\n",
      "('HAL', 'Hawaiian Airlines', 'HA', 'United States', 1929, 1941, None, 'Honolulu Daniel K Inouye International (HNL / PHNL)', 65, 12.3, 'hawaiianairlines.com')\n",
      "('JBU', 'JetBlue Airways', 'B6', 'United States', 1999, 2000, None, 'New York John F. Kennedy (JFK / KJFK)', 291, 12.3, 'jetblue.com')\n",
      "\n",
      "\n",
      "Fetching data from table: aeropuertos\n",
      "Table: aeropuertos\n",
      "('ABE', 'Lehigh Valley International', 'Allentown/Bethlehem/Easton', 'PA', 40.6877, -75.2182, '201 S 7th St, Easton, PA 18042')\n",
      "('ABI', 'Abilene Regional', 'Abilene', 'TX', 32.451, -99.7357, '202 Cedar St (North 2nd), Abilene, TX 79601')\n",
      "('ABQ', 'Albuquerque International Sunport', 'Albuquerque', 'NM', 35.0484, -106.617, '2200 Sunport Blvd SE (at Sunport Loop), Albuquerque, NM 87106')\n",
      "('ABR', 'Aberdeen Regional', 'Aberdeen', 'SD', 45.464, -98.4879, '103 1/2 S Main St, Aberdeen, SD 57401')\n",
      "('ABY', 'Southwest Georgia Regional', 'Albany', 'GA', 31.5789, -84.1557, '323 Pine Ave, Albany, GA 31701')\n",
      "('ACT', 'Waco Regional', 'Waco', 'TX', 31.5566, -97.1327, '500 Washington Ln, Waco, TX 76708')\n",
      "('ACV', 'California Redwood Coast Humboldt County', 'Arcata/Eureka', 'CA', 40.8044, -124.165, '205 G St (2nd and G Street), Eureka, CA 95501')\n",
      "('ACY', 'Atlantic City International', 'Atlantic City', 'NJ', 39.3603, -74.4203, '1000 Boardwalk (at Maryland Ave), Atlantic City, NJ 08401')\n",
      "('ADK', 'Adak', 'Adak Island', 'AK', 37.9174, -100.707, 'Garden City , United States, Garden City, KS 67846')\n",
      "('ADQ', 'Kodiak Airport', 'Kodiak', 'AK', 57.7906, -152.407, '117 Lower Mill Bay Rd, Kodiak, AK 99615')\n",
      "\n",
      "\n",
      "Fetching data from table: distancias\n",
      "Table: distancias\n",
      "(1, 692.0, 'ABE', 'ATL')\n",
      "(2, 685.0, 'ABE', 'BNA')\n",
      "(3, 481.0, 'ABE', 'CLT')\n",
      "(4, 425.0, 'ABE', 'DTW')\n",
      "(5, 1041.0, 'ABE', 'FLL')\n",
      "(6, 654.0, 'ABE', 'ORD')\n",
      "(7, 1018.0, 'ABE', 'PGD')\n",
      "(8, 970.0, 'ABE', 'PIE')\n",
      "(9, 882.0, 'ABE', 'SFB')\n",
      "(10, 158.0, 'ABI', 'DFW')\n",
      "\n",
      "\n",
      "Fetching data from table: estados\n",
      "Table: estados\n",
      "('AK', 'Alaska')\n",
      "('AL', 'Alabama')\n",
      "('AR', 'Arkansas')\n",
      "('AZ', 'Arizona')\n",
      "('CA', 'California')\n",
      "('CO', 'Colorado')\n",
      "('CT', 'Connecticut')\n",
      "('DC', 'Distrito de Columbia')\n",
      "('DE', 'Delaware')\n",
      "('FL', 'Florida')\n",
      "\n",
      "\n",
      "Fetching data from table: vuelos\n",
      "Table: vuelos\n",
      "(1, 'ENY', datetime.datetime(2021, 12, 1, 0, 0), 3632, 'N202NN', datetime.timedelta(seconds=29460), datetime.timedelta(seconds=29760), 57, 69, 5, datetime.timedelta(seconds=30780), 17, 5, 0, 12, 0, 0, 'ABI', datetime.timedelta(seconds=33900), 0, 'DFW')\n",
      "(2, 'ENY', datetime.datetime(2021, 12, 1, 0, 0), 3647, 'N653AE', datetime.timedelta(seconds=24300), datetime.timedelta(seconds=23820), 56, 61, -8, datetime.timedelta(seconds=24600), 13, 0, 0, 0, 0, 0, 'ABI', datetime.timedelta(seconds=27480), 0, 'DFW')\n",
      "(3, 'ENY', datetime.datetime(2021, 12, 1, 0, 0), 3723, 'N616AE', datetime.timedelta(seconds=53220), datetime.timedelta(seconds=52680), 54, 67, -9, datetime.timedelta(seconds=53460), 13, 0, 0, 0, 0, 0, 'ABI', datetime.timedelta(seconds=56700), 0, 'DFW')\n",
      "(4, 'ENY', datetime.datetime(2021, 12, 1, 0, 0), 4192, 'N681AE', datetime.timedelta(seconds=45300), datetime.timedelta(seconds=45300), 61, 59, 0, datetime.timedelta(seconds=45840), 9, 0, 0, 0, 0, 0, 'ABI', datetime.timedelta(seconds=48840), 0, 'DFW')\n",
      "(5, 'ENY', datetime.datetime(2021, 12, 1, 0, 0), 4311, 'N687JS', datetime.timedelta(seconds=66960), datetime.timedelta(seconds=71220), 62, 58, 71, datetime.timedelta(seconds=71940), 12, 4, 0, 0, 0, 63, 'ABI', datetime.timedelta(seconds=74700), 0, 'DFW')\n",
      "(6, 'ENY', datetime.datetime(2021, 12, 1, 0, 0), 4487, 'N618AE', datetime.timedelta(seconds=32400), datetime.timedelta(seconds=31860), 57, 62, -9, datetime.timedelta(seconds=32700), 14, 0, 0, 0, 0, 0, 'ABI', datetime.timedelta(seconds=35580), 0, 'DFW')\n",
      "(7, 'ENY', datetime.datetime(2021, 12, 2, 0, 0), 3632, 'N922AE', datetime.timedelta(seconds=29460), datetime.timedelta(seconds=69180), 57, 46, 662, datetime.timedelta(seconds=69420), 4, 651, 0, 0, 0, 0, 'ABI', datetime.timedelta(seconds=71940), 0, 'DFW')\n",
      "(8, 'ENY', datetime.datetime(2021, 12, 2, 0, 0), 3647, 'N932AE', datetime.timedelta(seconds=24300), datetime.timedelta(seconds=23940), 56, 64, -6, datetime.timedelta(seconds=24360), 7, 0, 0, 0, 0, 0, 'ABI', datetime.timedelta(seconds=27780), 0, 'DFW')\n",
      "(9, 'ENY', datetime.datetime(2021, 12, 2, 0, 0), 3723, 'N667GB', datetime.timedelta(seconds=53220), datetime.timedelta(seconds=52620), 54, 61, -10, datetime.timedelta(seconds=53460), 14, 0, 0, 0, 0, 0, 'ABI', datetime.timedelta(seconds=56280), 0, 'DFW')\n",
      "(10, 'ENY', datetime.datetime(2021, 12, 2, 0, 0), 4192, 'N619AE', datetime.timedelta(seconds=45300), datetime.timedelta(seconds=45300), 61, 71, 0, datetime.timedelta(seconds=46020), 12, 0, 0, 0, 0, 0, 'ABI', datetime.timedelta(seconds=49560), 0, 'DFW')\n",
      "\n",
      "\n"
     ]
    }
   ],
   "source": [
    "cursor.execute(\"SHOW TABLES\")\n",
    "tables = cursor.fetchall()\n",
    "\n",
    "for (table_name,) in tables:\n",
    "    print(f\"Fetching data from table: {table_name}\")\n",
    "    cursor.execute(f\"SELECT * FROM {table_name} LIMIT 10\")\n",
    "    rows = cursor.fetchall()\n",
    "    print(f\"Table: {table_name}\")\n",
    "    for row in rows:\n",
    "        print(row)\n",
    "    print(\"\\n\")"
   ]
  }
 ],
 "metadata": {
  "kernelspec": {
   "display_name": "Python 3 (ipykernel)",
   "language": "python",
   "name": "python3"
  },
  "language_info": {
   "codemirror_mode": {
    "name": "ipython",
    "version": 3
   },
   "file_extension": ".py",
   "mimetype": "text/x-python",
   "name": "python",
   "nbconvert_exporter": "python",
   "pygments_lexer": "ipython3",
   "version": "3.13.0"
  }
 },
 "nbformat": 4,
 "nbformat_minor": 5
}
